{
  "nbformat": 4,
  "nbformat_minor": 0,
  "metadata": {
    "colab": {
      "name": "image_translation.ipynb",
      "version": "0.3.2",
      "provenance": [],
      "collapsed_sections": []
    },
    "kernelspec": {
      "name": "python3",
      "display_name": "Python 3"
    },
    "accelerator": "GPU"
  },
  "cells": [
    {
      "cell_type": "markdown",
      "metadata": {
        "id": "view-in-github",
        "colab_type": "text"
      },
      "source": [
        "[View in Colaboratory](https://colab.research.google.com/github/andersy005/video-game-graphics-to-reality-and-back/blob/master/notebooks/image_translation.ipynb)"
      ]
    },
    {
      "metadata": {
        "id": "XFHViz75ndVG",
        "colab_type": "text"
      },
      "cell_type": "markdown",
      "source": [
        "# Install Colaboratory Tools"
      ]
    },
    {
      "metadata": {
        "id": "uwQX3LUurR76",
        "colab_type": "code",
        "colab": {}
      },
      "cell_type": "code",
      "source": [
        "!pip uninstall colabtools -y"
      ],
      "execution_count": 0,
      "outputs": []
    },
    {
      "metadata": {
        "id": "NYP068_SVSQo",
        "colab_type": "code",
        "colab": {}
      },
      "cell_type": "code",
      "source": [
        "#@title Default title text\n",
        "!pip install git+https://github.com/andersy005/colaboratory-tools.git --no-cache-dir"
      ],
      "execution_count": 0,
      "outputs": []
    },
    {
      "metadata": {
        "id": "GSbGvD0qnX56",
        "colab_type": "text"
      },
      "cell_type": "markdown",
      "source": [
        "# Load Data\n",
        "\n",
        "Check to see if the data is already available. If not, download the data from google drive and extract the files from compressed files."
      ]
    },
    {
      "metadata": {
        "id": "67nT3iT4MQfa",
        "colab_type": "code",
        "colab": {}
      },
      "cell_type": "code",
      "source": [
        "%%bash\n",
        "if [ ! -f gta.tar.gz ]; then\n",
        "  echo \"File not found!\"\n",
        " \n",
        "  wget --header 'Host: doc-0o-58-docs.googleusercontent.com' --user-agent 'Mozilla/5.0 (X11; Ubuntu; Linux x86_64; rv:59.0) Gecko/20100101 Firefox/59.0' --header 'Accept: text/html,application/xhtml+xml,application/xml;q=0.9,*/*;q=0.8' --header 'Accept-Language: en-US,en;q=0.5' --referer 'https://drive.google.com/drive/u/1/folders/1B56WZ20ODejt7MAwFr0a2HnMJ0fz4VlN' --header 'Cookie: AUTH_e1273drrbkihn7uunefac5g2nh6fppao=07610261954870412584|1523390400000|kf36r1s9jup16ems1p1f2sckdgrlvbhm; NID=123=lBPWjtG4k1sU7Dd0qsq5jpbqEiDrMBU8x0r6kdqXBCf-pCwxt9y7UdTTVaEFzLR7u5w-wq6dp0xKDTIsDb6QCnL0jNICERWUAuRHrxjQlpzo8gI8bqEpJJBDhN1T2RNR' --header 'DNT: 1' --header 'Upgrade-Insecure-Requests: 1' 'https://doc-0o-58-docs.googleusercontent.com/docs/securesc/u8k4a259k8v0rijo1dv2q4t69g74544s/il57erfe3koja1994495ashvpr49mjfs/1523390400000/07610261954870412584/07610261954870412584/1gKCTPV_pCWaIEuiQ5IWP8rQSh040ezOL?h=11006290462901738094&e=download' --output-document 'city.tar.gz'\n",
        "  wget --header 'Host: doc-14-58-docs.googleusercontent.com' --user-agent 'Mozilla/5.0 (X11; Ubuntu; Linux x86_64; rv:59.0) Gecko/20100101 Firefox/59.0' --header 'Accept: text/html,application/xhtml+xml,application/xml;q=0.9,*/*;q=0.8' --header 'Accept-Language: en-US,en;q=0.5' --referer 'https://drive.google.com/drive/u/1/folders/1B56WZ20ODejt7MAwFr0a2HnMJ0fz4VlN' --header 'Cookie: AUTH_e1273drrbkihn7uunefac5g2nh6fppao=07610261954870412584|1523390400000|kf36r1s9jup16ems1p1f2sckdgrlvbhm; NID=123=lBPWjtG4k1sU7Dd0qsq5jpbqEiDrMBU8x0r6kdqXBCf-pCwxt9y7UdTTVaEFzLR7u5w-wq6dp0xKDTIsDb6QCnL0jNICERWUAuRHrxjQlpzo8gI8bqEpJJBDhN1T2RNR' --header 'DNT: 1' --header 'Upgrade-Insecure-Requests: 1' 'https://doc-14-58-docs.googleusercontent.com/docs/securesc/u8k4a259k8v0rijo1dv2q4t69g74544s/3le4pio11hb399ub230qat6883ggjv5n/1523390400000/07610261954870412584/07610261954870412584/1TxNprMLCTVnTWV9QIYDve5mv_DjOsCNb?h=11006290462901738094&e=download' --output-document 'gta.tar.gz'\n",
        "  tar -zxvf gta.tar.gz\n",
        "  tar -zxvf city.tar.gz\n",
        " \n",
        "fi"
      ],
      "execution_count": 0,
      "outputs": []
    },
    {
      "metadata": {
        "id": "4Mw2D349n43s",
        "colab_type": "code",
        "colab": {}
      },
      "cell_type": "code",
      "source": [
        "import matplotlib.pyplot as plt\n",
        "%matplotlib inline\n",
        "plt.rcParams[\"figure.figsize\"] = (12,8)\n",
        "\n",
        "from colabtools.pytorch import datasets as cds\n",
        "from torch import utils\n",
        "from torchvision import transforms"
      ],
      "execution_count": 0,
      "outputs": []
    },
    {
      "metadata": {
        "id": "5j1Pi8mXtedK",
        "colab_type": "text"
      },
      "cell_type": "markdown",
      "source": [
        "# Plot some images from both datasets"
      ]
    },
    {
      "metadata": {
        "id": "lkBr4MzBn4z4",
        "colab_type": "code",
        "colab": {}
      },
      "cell_type": "code",
      "source": [
        "compose = transforms.Compose(\n",
        "        [\n",
        "            transforms.ToPILImage(),\n",
        "            transforms.Resize((256, 256)),\n",
        "            transforms.ToTensor(),\n",
        "            #transforms.Normalize((.5, .5, .5), (.5, .5, .5))\n",
        "        ])\n",
        "gta = cds.CustomDataset(root_dir='./gta/images/', transform=compose)\n",
        "gta_loader = utils.data.DataLoader(gta, num_workers=4, shuffle=True, \n",
        "                                   batch_size=4)\n",
        "city = cds.CustomDataset(root_dir='./city_real/', transform=compose)\n",
        "city_loader = utils.data.DataLoader(city, num_workers=4, shuffle=True,\n",
        "                                   batch_size=4)\n",
        "\n",
        "def show_images(loader):\n",
        "  for i_batch, sample_batched in enumerate(loader):\n",
        "    print(i_batch, sample_batched.size())\n",
        "\n",
        "    if i_batch == 3:\n",
        "      cds.show_batch(sample_batched)\n",
        "      plt.show()\n",
        "      break\n",
        "\n",
        "\n",
        "show_images(gta_loader)\n",
        "show_images(city_loader)"
      ],
      "execution_count": 0,
      "outputs": []
    },
    {
      "metadata": {
        "id": "Aufi8Z0kNExG",
        "colab_type": "code",
        "colab": {}
      },
      "cell_type": "code",
      "source": [
        "from IPython import display\n",
        "import torch\n",
        "from torch import nn\n",
        "from torch.optim import Adam \n",
        "from torch.autograd import Variable\n",
        "from torchvision import transforms, datasets"
      ],
      "execution_count": 0,
      "outputs": []
    },
    {
      "metadata": {
        "id": "cI8qgsISNEs4",
        "colab_type": "code",
        "colab": {}
      },
      "cell_type": "code",
      "source": [
        "GTA_FOLDER ='./gta/images/'\n",
        "CITY_FOLDER = './city_real/'"
      ],
      "execution_count": 0,
      "outputs": []
    },
    {
      "metadata": {
        "id": "ikGeGGi_2m0S",
        "colab_type": "code",
        "colab": {}
      },
      "cell_type": "code",
      "source": [
        "\n",
        "# Load Data"
      ],
      "execution_count": 0,
      "outputs": []
    },
    {
      "metadata": {
        "id": "LwWhNjklNrTA",
        "colab_type": "text"
      },
      "cell_type": "markdown",
      "source": [
        ""
      ]
    },
    {
      "metadata": {
        "id": "rTaQAFTrgOJA",
        "colab_type": "code",
        "colab": {}
      },
      "cell_type": "code",
      "source": [
        "import sys\n",
        "import torch\n",
        "from torchvision import datasets\n",
        "from torchvision import transforms\n",
        "import os\n",
        "import matplotlib.pyplot as plt"
      ],
      "execution_count": 0,
      "outputs": []
    },
    {
      "metadata": {
        "id": "TnCQ6AWxlJXS",
        "colab_type": "code",
        "colab": {}
      },
      "cell_type": "code",
      "source": [
        "import torch.nn as nn\n",
        "import torch.nn.functional as F\n",
        "\n",
        "\n",
        "def deconv(c_in, c_out, k_size, stride=2, pad=1, bn=True):\n",
        "    \"\"\"Custom deconvolutional layer for simplicity.\"\"\"\n",
        "    layers = []\n",
        "    layers.append(nn.ConvTranspose2d(c_in, c_out, k_size, stride, pad, bias=False))\n",
        "    if bn:\n",
        "        layers.append(nn.BatchNorm2d(c_out))\n",
        "    return nn.Sequential(*layers)\n",
        "\n",
        "def conv(c_in, c_out, k_size, stride=2, pad=1, bn=True):\n",
        "    \"\"\"Custom convolutional layer for simplicity.\"\"\"\n",
        "    layers = []\n",
        "    layers.append(nn.Conv2d(c_in, c_out, k_size, stride, pad, bias=False))\n",
        "    if bn:\n",
        "        layers.append(nn.BatchNorm2d(c_out))\n",
        "    return nn.Sequential(*layers)\n",
        "\n",
        "class G12(nn.Module):\n",
        "    \"\"\"Generator for transfering from mnist to svhn\"\"\"\n",
        "    def __init__(self, conv_dim=64):\n",
        "        super(G12, self).__init__()\n",
        "        # encoding blocks\n",
        "        self.conv1 = conv(3, conv_dim, 4)\n",
        "        self.conv2 = conv(conv_dim, conv_dim*2, 4)\n",
        "        \n",
        "        # residual blocks\n",
        "        self.conv3 = conv(conv_dim*2, conv_dim*2, 3, 1, 1)\n",
        "        self.conv4 = conv(conv_dim*2, conv_dim*2, 3, 1, 1)\n",
        "        \n",
        "        # decoding blocks\n",
        "        self.deconv1 = deconv(conv_dim*2, conv_dim, 4)\n",
        "        self.deconv2 = deconv(conv_dim, 3, 4, bn=False)\n",
        "        \n",
        "    def forward(self, x):\n",
        "        out = F.leaky_relu(self.conv1(x), 0.05)      # (?, 64, 16, 16)\n",
        "        out = F.leaky_relu(self.conv2(out), 0.05)    # (?, 128, 8, 8)\n",
        "        \n",
        "        out = F.leaky_relu(self.conv3(out), 0.05)    # ( \" )\n",
        "        out = F.leaky_relu(self.conv4(out), 0.05)    # ( \" )\n",
        "        \n",
        "        out = F.leaky_relu(self.deconv1(out), 0.05)  # (?, 64, 16, 16)\n",
        "        out = F.tanh(self.deconv2(out))              # (?, 3, 32, 32)\n",
        "        return out\n",
        "    \n",
        "class G21(nn.Module):\n",
        "    \"\"\"Generator for transfering from svhn to mnist\"\"\"\n",
        "    def __init__(self, conv_dim=64):\n",
        "        super(G21, self).__init__()\n",
        "        # encoding blocks\n",
        "        self.conv1 = conv(3, conv_dim, 4)\n",
        "        self.conv2 = conv(conv_dim, conv_dim*2, 4)\n",
        "        \n",
        "        # residual blocks\n",
        "        self.conv3 = conv(conv_dim*2, conv_dim*2, 3, 1, 1)\n",
        "        self.conv4 = conv(conv_dim*2, conv_dim*2, 3, 1, 1)\n",
        "        \n",
        "        # decoding blocks\n",
        "        self.deconv1 = deconv(conv_dim*2, conv_dim, 4)\n",
        "        self.deconv2 = deconv(conv_dim, 3, 4, bn=False)\n",
        "        \n",
        "    def forward(self, x):\n",
        "        out = F.leaky_relu(self.conv1(x), 0.05)      # (?, 64, 16, 16)\n",
        "        out = F.leaky_relu(self.conv2(out), 0.05)    # (?, 128, 8, 8)\n",
        "        \n",
        "        out = F.leaky_relu(self.conv3(out), 0.05)    # ( \" )\n",
        "        out = F.leaky_relu(self.conv4(out), 0.05)    # ( \" )\n",
        "        \n",
        "        out = F.leaky_relu(self.deconv1(out), 0.05)  # (?, 64, 16, 16)\n",
        "        out = F.tanh(self.deconv2(out))              # (?, 1, 32, 32)\n",
        "        return out\n",
        "    \n",
        "class D1(nn.Module):\n",
        "    \"\"\"Discriminator for mnist.\"\"\"\n",
        "    def __init__(self, conv_dim=64, use_labels=False):\n",
        "        super(D1, self).__init__()\n",
        "        self.conv1 = conv(3, conv_dim, 4, bn=False)\n",
        "        self.conv2 = conv(conv_dim, conv_dim*2, 4)\n",
        "        self.conv3 = conv(conv_dim*2, conv_dim*4, 4)\n",
        "        n_out = 11 if use_labels else 1\n",
        "        self.fc = conv(conv_dim*4, n_out, 4, 1, 0, False)\n",
        "        \n",
        "    def forward(self, x):\n",
        "        out = F.leaky_relu(self.conv1(x), 0.05)    # (?, 64, 16, 16)\n",
        "        out = F.leaky_relu(self.conv2(out), 0.05)  # (?, 128, 8, 8)\n",
        "        out = F.leaky_relu(self.conv3(out), 0.05)  # (?, 256, 4, 4)\n",
        "        out = self.fc(out).squeeze()\n",
        "        return out\n",
        "\n",
        "class D2(nn.Module):\n",
        "    \"\"\"Discriminator for svhn.\"\"\"\n",
        "    def __init__(self, conv_dim=64, use_labels=False):\n",
        "        super(D2, self).__init__()\n",
        "        self.conv1 = conv(3, conv_dim, 4, bn=False)\n",
        "        self.conv2 = conv(conv_dim, conv_dim*2, 4)\n",
        "        self.conv3 = conv(conv_dim*2, conv_dim*4, 4)\n",
        "        n_out = 11 if use_labels else 1\n",
        "        self.fc = conv(conv_dim*4, n_out, 4, 1, 0, False)\n",
        "        \n",
        "    def forward(self, x):\n",
        "        out = F.leaky_relu(self.conv1(x), 0.05)    # (?, 64, 16, 16)\n",
        "        out = F.leaky_relu(self.conv2(out), 0.05)  # (?, 128, 8, 8)\n",
        "        out = F.leaky_relu(self.conv3(out), 0.05)  # (?, 256, 4, 4)\n",
        "        out = self.fc(out).squeeze()\n",
        "        return out"
      ],
      "execution_count": 0,
      "outputs": []
    },
    {
      "metadata": {
        "id": "_KeEKrhNhu_e",
        "colab_type": "code",
        "colab": {}
      },
      "cell_type": "code",
      "source": [
        "# Script to load, process/augment data from GTA5 and CityScape datasets.abs\n",
        "# License: MIT\n",
        "# Author: Anderson Banihirwe\n",
        "\n",
        "import torch\n",
        "from torchvision import datasets\n",
        "from torchvision import transforms\n",
        "from torch.utils.data import Dataset\n",
        "from torch.utils.data import DataLoader\n",
        "from skimage import io\n",
        "import pathlib\n",
        "import os\n",
        "\n",
        "\n",
        "class Config:\n",
        "    \"\"\"Configuration class that\n",
        "    contains needed configuration settings.\"\"\"\n",
        "    def __init__(self, gta='./gta/images/',\n",
        "                 city='./city_real/',\n",
        "                 image_size=32, g_conv_dim=64, d_conv_dim=64,\n",
        "                 use_reconst_loss=True, use_labels=False, num_classes=None,\n",
        "                 train_iters=20, batch_size=64, num_workers=4, lr=0.0002,\n",
        "                 beta1=0.5, beta2=0.999, mode='train', model_path='models',\n",
        "                 sample_path='samples', log_step=10, sample_step=10):\n",
        "        self.gta_path = gta\n",
        "        self.city_path = city\n",
        "        self.image_size = image_size\n",
        "        self.g_conv_dim = g_conv_dim\n",
        "        self.d_conv_dim = d_conv_dim\n",
        "        self.use_reconst_loss = use_reconst_loss\n",
        "        self.train_iters = train_iters\n",
        "        self.batch_size = batch_size\n",
        "        self.num_workers = num_workers\n",
        "        self.beta1 = beta1\n",
        "        self.beta2 = beta2\n",
        "        self.mode = mode\n",
        "        self.model_path = model_path\n",
        "        self.sample_path = sample_path\n",
        "        self.log_step = log_step\n",
        "        self.sample_step = sample_step\n",
        "        self.use_labels = use_labels\n",
        "        self.num_classes = num_classes\n",
        "        self.lr = lr\n",
        "\n",
        "\n",
        "class CustomDataset(Dataset):\n",
        "    \"\"\"Create a custom dataset object.\"\"\"\n",
        "    def __init__(self, root_dir, transform=None):\n",
        "        self.root_dir = root_dir\n",
        "        self.transform = transform\n",
        "        self.files = os.listdir(root_dir)\n",
        "\n",
        "    def __len__(self):\n",
        "        return len(os.listdir(self.root_dir))\n",
        "\n",
        "    def __getitem__(self, idx):\n",
        "        img_name = self.root_dir/self.files[idx]\n",
        "        image = io.imread(img_name)\n",
        "        if self.transform:\n",
        "            image = self.transform(image)\n",
        "        return image\n",
        "\n",
        "\n",
        "def get_loader(config, transfms=None):\n",
        "    \"\"\"Builds and returns Dataloader for GTA5 and CityScape dataset.\"\"\"\n",
        "    gta_path = pathlib.Path(config.gta_path)\n",
        "    city_path = pathlib.Path(config.city_path)\n",
        "\n",
        "    gta_dataset = CustomDataset(gta_path, transfms)\n",
        "    city_dataset = CustomDataset(city_path, transfms)\n",
        "    \n",
        "    dataloader_gta = DataLoader(gta_dataset, batch_size=config.batch_size, shuffle=True, num_workers=config.num_workers)\n",
        "    dataloader_city = DataLoader(city_dataset, batch_size=config.batch_size, shuffle=True, num_workers=config.num_workers)\n",
        "\n",
        "    return dataloader_gta, dataloader_city"
      ],
      "execution_count": 0,
      "outputs": []
    },
    {
      "metadata": {
        "id": "q8jm0K8cgPda",
        "colab_type": "code",
        "colab": {}
      },
      "cell_type": "code",
      "source": [
        "import torch\n",
        "import torch.nn as nn\n",
        "import torchvision\n",
        "import os\n",
        "import pickle\n",
        "import scipy.io\n",
        "import numpy as np\n",
        "\n",
        "from torch.autograd import Variable\n",
        "from torch import optim\n",
        "from torchvision import transforms, utils\n",
        "#from models.model import G12, G21\n",
        "#from models.model import D1, D2\n",
        "\n",
        "\n",
        "class Solver(object):\n",
        "    def __init__(self, config, gta_loader, city_loader):\n",
        "        self.gta_loader = gta_loader\n",
        "        self.city_loader = city_loader\n",
        "        self.g12 = None\n",
        "        self.g21 = None\n",
        "        self.d1 = None\n",
        "        self.d2 = None\n",
        "        self.g_optimizer = None\n",
        "        self.d_optimizer = None\n",
        "        self.use_reconst_loss = config.use_reconst_loss\n",
        "        self.use_labels = config.use_labels\n",
        "        self.num_classes = config.num_classes\n",
        "        self.beta1 = config.beta1\n",
        "        self.beta2 = config.beta2\n",
        "        self.g_conv_dim = config.g_conv_dim\n",
        "        self.d_conv_dim = config.d_conv_dim\n",
        "        self.train_iters = config.train_iters\n",
        "        self.batch_size = config.batch_size\n",
        "        self.lr = config.lr\n",
        "        self.log_step = config.log_step\n",
        "        self.sample_step = config.sample_step\n",
        "        self.sample_path = config.sample_path\n",
        "        self.model_path = config.model_path\n",
        "        self.build_model()\n",
        "        \n",
        "    def build_model(self):\n",
        "        \"\"\"Builds a generator and a discriminator.\"\"\"\n",
        "        self.g12 = G12(conv_dim=self.g_conv_dim)\n",
        "        self.g21 = G21(conv_dim=self.g_conv_dim)\n",
        "        self.d1 = D1(conv_dim=self.d_conv_dim, use_labels=self.use_labels)\n",
        "        self.d2 = D2(conv_dim=self.d_conv_dim, use_labels=self.use_labels)\n",
        "        \n",
        "        g_params = list(self.g12.parameters()) + list(self.g21.parameters())\n",
        "        d_params = list(self.d1.parameters()) + list(self.d2.parameters())\n",
        "        \n",
        "        self.g_optimizer = optim.Adam(g_params, self.lr, [self.beta1, self.beta2])\n",
        "        self.d_optimizer = optim.Adam(d_params, self.lr, [self.beta1, self.beta2])\n",
        "        \n",
        "        if torch.cuda.is_available():\n",
        "            self.g12.cuda()\n",
        "            self.g21.cuda()\n",
        "            self.d1.cuda()\n",
        "            self.d2.cuda()\n",
        "    \n",
        "    def merge_images(self, sources, targets, k=10):\n",
        "        _, _, h, w = sources.shape\n",
        "        row = int(np.sqrt(self.batch_size))\n",
        "        merged = np.zeros([3, row*h, row*w*2])\n",
        "        for idx, (s, t) in enumerate(zip(sources, targets)):\n",
        "            i = idx // row\n",
        "            j = idx % row\n",
        "            merged[:, i*h:(i+1)*h, (j*2)*h:(j*2+1)*h] = s\n",
        "            merged[:, i*h:(i+1)*h, (j*2+1)*h:(j*2+2)*h] = t\n",
        "        return merged.transpose(1, 2, 0)\n",
        "    \n",
        "    def to_var(self, x):\n",
        "        \"\"\"Converts numpy to variable.\"\"\"\n",
        "        if torch.cuda.is_available():\n",
        "            x = x.cuda()\n",
        "        return Variable(x)\n",
        "    \n",
        "    def to_data(self, x):\n",
        "        \"\"\"Converts variable to numpy.\"\"\"\n",
        "        if torch.cuda.is_available():\n",
        "            x = x.cpu()\n",
        "        return x.data.numpy()\n",
        "    \n",
        "    def reset_grad(self):\n",
        "        \"\"\"Zeros the gradient buffers.\"\"\"\n",
        "        self.g_optimizer.zero_grad()\n",
        "        self.d_optimizer.zero_grad()\n",
        "\n",
        "    def train(self):\n",
        "        gta_iter = iter(self.gta_loader)\n",
        "        city_iter = iter(self.city_loader)\n",
        "        iter_per_epoch = min(len(gta_iter), len(city_iter))\n",
        "        \n",
        "        # fixed city and gta for sampling\n",
        "        fixed_gta = self.to_var(gta_iter.next())\n",
        "        fixed_city = self.to_var(city_iter.next())\n",
        "        \n",
        "        # loss if use_labels = True\n",
        "        criterion = nn.CrossEntropyLoss()\n",
        "        \n",
        "        for step in range(self.train_iters+1):\n",
        "            # reset data_iter for each epoch\n",
        "            if (step+1) % iter_per_epoch == 0:\n",
        "                city_iter = iter(self.city_loader)\n",
        "                gta_iter = iter(self.gta_loader)\n",
        "            \n",
        "            # load gta and city dataset\n",
        "            gta = gta_iter.next() \n",
        "            gta = self.to_var(gta)\n",
        "            city = city_iter.next() \n",
        "            city = self.to_var(city)\n",
        "\n",
        "            if self.use_labels:\n",
        "                city_fake_labels = self.to_var(\n",
        "                    torch.Tensor([self.num_classes]*gta.size(0)).long())\n",
        "                gta_fake_labels = self.to_var(\n",
        "                    torch.Tensor([self.num_classes]*city.size(0)).long())\n",
        "            \n",
        "            #============ train D ============#\n",
        "            \n",
        "            # train with real images\n",
        "            self.reset_grad()\n",
        "            out = self.d1(city)\n",
        "            if self.use_labels:\n",
        "                d1_loss = criterion(out, m_labels)\n",
        "            else:\n",
        "                d1_loss = torch.mean((out-1)**2)\n",
        "            \n",
        "            out = self.d2(gta)\n",
        "            if self.use_labels:\n",
        "                d2_loss = criterion(out, s_labels)\n",
        "            else:\n",
        "                d2_loss = torch.mean((out-1)**2)\n",
        "            \n",
        "            d_city_loss = d1_loss\n",
        "            d_gta_loss = d2_loss\n",
        "            d_real_loss = d1_loss + d2_loss\n",
        "            d_real_loss.backward()\n",
        "            self.d_optimizer.step()\n",
        "            \n",
        "            # train with fake images\n",
        "            self.reset_grad()\n",
        "            fake_gta = self.g12(city)\n",
        "            out = self.d2(fake_gta)\n",
        "            if self.use_labels:\n",
        "                d2_loss = criterion(out, gta_fake_labels)\n",
        "            else:\n",
        "                d2_loss = torch.mean(out**2)\n",
        "            \n",
        "            fake_city = self.g21(gta)\n",
        "            out = self.d1(fake_city)\n",
        "            if self.use_labels:\n",
        "                d1_loss = criterion(out, city_fake_labels)\n",
        "            else:\n",
        "                d1_loss = torch.mean(out**2)\n",
        "            \n",
        "            d_fake_loss = d1_loss + d2_loss\n",
        "            d_fake_loss.backward()\n",
        "            self.d_optimizer.step()\n",
        "            \n",
        "            #============ train G ============#\n",
        "            \n",
        "            # train city-gta-city cycle\n",
        "            self.reset_grad()\n",
        "            fake_gta = self.g12(city)\n",
        "            out = self.d2(fake_gta)\n",
        "            reconst_city = self.g21(fake_gta)\n",
        "            if self.use_labels:\n",
        "                g_loss = criterion(out, m_labels) \n",
        "            else:\n",
        "                g_loss = torch.mean((out-1)**2) \n",
        "\n",
        "            if self.use_reconst_loss:\n",
        "                g_loss += torch.mean((city - reconst_city)**2)\n",
        "\n",
        "            g_loss.backward()\n",
        "            self.g_optimizer.step()\n",
        "\n",
        "            # train gta-city-gta cycle\n",
        "            self.reset_grad()\n",
        "            fake_city = self.g21(gta)\n",
        "            out = self.d1(fake_city)\n",
        "            reconst_gta = self.g12(fake_city)\n",
        "            if self.use_labels:\n",
        "                g_loss = criterion(out, s_labels) \n",
        "            else:\n",
        "                g_loss = torch.mean((out-1)**2) \n",
        "\n",
        "            if self.use_reconst_loss:\n",
        "                g_loss += torch.mean((gta - reconst_gta)**2)\n",
        "\n",
        "            g_loss.backward()\n",
        "            self.g_optimizer.step()\n",
        "            \n",
        "            # print the log info\n",
        "            if (step+1) % self.log_step == 0:\n",
        "                print('Step [%d/%d], d_real_loss: %.4f, d_city_loss: %.4f, d_gta_loss: %.4f, '\n",
        "                      'd_fake_loss: %.4f, g_loss: %.4f' \n",
        "                      %(step+1, self.train_iters, d_real_loss.data[0], d_city_loss.data[0], \n",
        "                        d_gta_loss.data[0], d_fake_loss.data[0], g_loss.data[0]))\n",
        "\n",
        "            # save the sampled images\n",
        "            if (step+1) % self.sample_step == 0:\n",
        "                fake_gta = self.g12(fixed_city)\n",
        "                fake_city = self.g21(fixed_gta)\n",
        "                \n",
        "                city, fake_city = self.to_data(fixed_city), self.to_data(fake_city)\n",
        "                gta , fake_gta = self.to_data(fixed_gta), self.to_data(fake_gta)\n",
        "                \n",
        "                merged = self.merge_images(city, fake_gta)\n",
        "                path = os.path.join(self.sample_path, 'sample-%d-m-s.png' %(step+1))\n",
        "                path2 = os.path.join(self.sample_path, 'sample2-%d-m-s.png' %(step+1))\n",
        "                path3 = os.path.join(self.sample_path, 'sample3-%d-m-s.png' %(step+1))\n",
        "                path4 = os.path.join(self.sample_path, 'sample4-%d-m-s.png' %(step+1))\n",
        "                path5 = os.path.join(self.sample_path, 'sample5-%d-m-s.png' %(step+1))\n",
        "               \n",
        "                scipy.misc.imshow(city.transpose(0, 2, 3, 1)[0])\n",
        "                scipy.misc.imshow(fake_city.transpose(0, 2, 3, 1)[0])\n",
        "                scipy.misc.imshow(gta.transpose(0, 2, 3, 1)[0])\n",
        "                scipy.misc.imshow(fake_gta.transpose(0, 2, 3, 1)[0])\n",
        "                #scipy.misc.imsave(path, merged)\n",
        "                #scipy.misc.imsave(path2, city[0])\n",
        "                #scipy.misc.imsave(path3, fake_gta[0])\n",
        "                #scipy.misc.imsave(path4, fake_city[0])\n",
        "                #scipy.misc.imsave(path5, gta[0])\n",
        "                \n",
        "                print ('saved %s' %path)\n",
        "                \n",
        "                merged = self.merge_images(gta, fake_city)\n",
        "                path = os.path.join(self.sample_path, 'sample-%d-s-m.png' %(step+1))\n",
        "                scipy.misc.imsave(path, merged)\n",
        "                print ('saved %s' %path)\n",
        "            \n",
        "            if (step+1) % 20 == 0:\n",
        "                # save the model parameters for each epoch\n",
        "                g12_path = os.path.join(self.model_path, 'g12-%d.pkl' %(step+1))\n",
        "                g21_path = os.path.join(self.model_path, 'g21-%d.pkl' %(step+1))\n",
        "                d1_path = os.path.join(self.model_path, 'd1-%d.pkl' %(step+1))\n",
        "                d2_path = os.path.join(self.model_path, 'd2-%d.pkl' %(step+1))\n",
        "                torch.save(self.g12.state_dict(), g12_path)\n",
        "                torch.save(self.g21.state_dict(), g21_path)\n",
        "                torch.save(self.d1.state_dict(), d1_path)\n",
        "                torch.save(self.d2.state_dict(), d2_path)"
      ],
      "execution_count": 0,
      "outputs": []
    },
    {
      "metadata": {
        "id": "5XzOcF_CldQW",
        "colab_type": "code",
        "colab": {}
      },
      "cell_type": "code",
      "source": [
        "config = Config()"
      ],
      "execution_count": 0,
      "outputs": []
    },
    {
      "metadata": {
        "id": "h3iGRykJld-W",
        "colab_type": "code",
        "colab": {}
      },
      "cell_type": "code",
      "source": [
        "transfms = transforms.Compose([\n",
        "    transforms.ToPILImage(),\n",
        "    transforms.Resize((64, 64)),\n",
        "    transforms.ToTensor(),\n",
        "    transforms.Normalize(\n",
        "        mean=[0.485, 0.456, 0.406], std=[0.229, 0.224, 0.225])\n",
        "])"
      ],
      "execution_count": 0,
      "outputs": []
    },
    {
      "metadata": {
        "id": "qSqebDYelsi-",
        "colab_type": "code",
        "colab": {}
      },
      "cell_type": "code",
      "source": [
        "gta_loader, city_loader = get_loader(config, transfms=transfms)\n",
        "len(gta_loader)\n",
        "def show_batch(sample_batched):\n",
        "    images_batch = sample_batched\n",
        "    batch_size = len(images_batch)\n",
        "    im_size = images_batch.size(2)\n",
        "    grid = utils.make_grid(images_batch)\n",
        "    plt.imshow(grid.numpy().transpose((1, 2, 0)))\n",
        "    "
      ],
      "execution_count": 0,
      "outputs": []
    },
    {
      "metadata": {
        "id": "2gBXCe8xlxFg",
        "colab_type": "code",
        "colab": {}
      },
      "cell_type": "code",
      "source": [
        "solver = Solver(config, gta_loader, city_loader)"
      ],
      "execution_count": 0,
      "outputs": []
    },
    {
      "metadata": {
        "id": "Liaz_OLMlzYS",
        "colab_type": "code",
        "colab": {}
      },
      "cell_type": "code",
      "source": [
        "from torch.backends import cudnn\n",
        "cudnn.benchmark = True"
      ],
      "execution_count": 0,
      "outputs": []
    },
    {
      "metadata": {
        "id": "KVbe5Qfil50M",
        "colab_type": "code",
        "colab": {}
      },
      "cell_type": "code",
      "source": [
        "# create directories if not exist\n",
        "if not os.path.exists(config.model_path):\n",
        "    os.makedirs(config.model_path)\n",
        "if not os.path.exists(config.sample_path):\n",
        "    os.makedirs(config.sample_path)\n",
        "    "
      ],
      "execution_count": 0,
      "outputs": []
    },
    {
      "metadata": {
        "id": "AKz0UxBQl8JU",
        "colab_type": "code",
        "colab": {}
      },
      "cell_type": "code",
      "source": [
        "solver.train()"
      ],
      "execution_count": 0,
      "outputs": []
    },
    {
      "metadata": {
        "id": "6PEVn92t8P1Q",
        "colab_type": "code",
        "colab": {}
      },
      "cell_type": "code",
      "source": [
        "from IPython import display"
      ],
      "execution_count": 0,
      "outputs": []
    },
    {
      "metadata": {
        "id": "YqJ5-W5I8Q12",
        "colab_type": "code",
        "colab": {}
      },
      "cell_type": "code",
      "source": [
        "import os\n",
        "import numpy as np\n",
        "import errno\n",
        "import torchvision.utils as vutils\n",
        "from tensorboardX import SummaryWriter\n",
        "from IPython import display\n",
        "from matplotlib import pyplot as plt\n",
        "import torch\n",
        "\n",
        "'''\n",
        "    TensorBoard Data will be stored in './runs' path\n",
        "'''\n",
        "\n",
        "\n",
        "class Logger:\n",
        "\n",
        "    def __init__(self, model_name, data_name):\n",
        "        self.model_name = model_name\n",
        "        self.data_name = data_name\n",
        "\n",
        "        self.comment = '{}_{}'.format(model_name, data_name)\n",
        "        self.data_subdir = '{}/{}'.format(model_name, data_name)\n",
        "\n",
        "        # TensorBoard\n",
        "        self.writer = SummaryWriter(comment=self.comment)\n",
        "\n",
        "    def log(self, d_error, g_error, epoch, n_batch, num_batches):\n",
        "\n",
        "        var_class = torch.autograd.variable.Variable\n",
        "        if type(d_error)==var_class:\n",
        "            d_error = d_error.data.cpu().numpy()\n",
        "        if type(g_error)==var_class:\n",
        "            g_error = g_error.data.cpu().numpy()\n",
        "\n",
        "        step = Logger._step(epoch, n_batch, num_batches)\n",
        "        self.writer.add_scalar(\n",
        "            '{}/D_error'.format(self.comment), d_error, step)\n",
        "        self.writer.add_scalar(\n",
        "            '{}/G_error'.format(self.comment), g_error, step)\n",
        "\n",
        "    def log_images(self, images, num_images, epoch, n_batch, num_batches, format='NCHW', normalize=True):\n",
        "        '''\n",
        "        input images are expected in format (NCHW)\n",
        "        '''\n",
        "        if type(images) == np.ndarray:\n",
        "            images = torch.from_numpy(images)\n",
        "        \n",
        "        if format=='NHWC':\n",
        "            images = images.transpose(1,3)\n",
        "        \n",
        "\n",
        "        step = Logger._step(epoch, n_batch, num_batches)\n",
        "        img_name = '{}/images{}'.format(self.comment, '')\n",
        "\n",
        "        # Make horizontal grid from image tensor\n",
        "        horizontal_grid = vutils.make_grid(\n",
        "            images, normalize=normalize, scale_each=True)\n",
        "        # Make vertical grid from image tensor\n",
        "        nrows = int(np.sqrt(num_images))\n",
        "        grid = vutils.make_grid(\n",
        "            images, nrow=nrows, normalize=True, scale_each=True)\n",
        "\n",
        "        # Add horizontal images to tensorboard\n",
        "        self.writer.add_image(img_name, horizontal_grid, step)\n",
        "\n",
        "        # Save plots\n",
        "        self.save_torch_images(horizontal_grid, grid, epoch, n_batch)\n",
        "\n",
        "    def save_torch_images(self, horizontal_grid, grid, epoch, n_batch, plot_horizontal=True):\n",
        "        out_dir = './data/images/{}'.format(self.data_subdir)\n",
        "        Logger._make_dir(out_dir)\n",
        "\n",
        "        # Plot and save horizontal\n",
        "        fig = plt.figure(figsize=(16, 16))\n",
        "        plt.imshow(np.moveaxis(horizontal_grid.numpy(), 0, -1))\n",
        "        plt.axis('off')\n",
        "        if plot_horizontal:\n",
        "            display.display(plt.gcf())\n",
        "        self._save_images(fig, epoch, n_batch, 'hori')\n",
        "        plt.close()\n",
        "\n",
        "        # Save squared\n",
        "        fig = plt.figure()\n",
        "        plt.imshow(np.moveaxis(grid.numpy(), 0, -1))\n",
        "        plt.axis('off')\n",
        "        self._save_images(fig, epoch, n_batch)\n",
        "        plt.close()\n",
        "\n",
        "    def _save_images(self, fig, epoch, n_batch, comment=''):\n",
        "        out_dir = './data/images/{}'.format(self.data_subdir)\n",
        "        Logger._make_dir(out_dir)\n",
        "        fig.savefig('{}/{}_epoch_{}_batch_{}.png'.format(out_dir,\n",
        "                                                         comment, epoch, n_batch))\n",
        "\n",
        "    def display_status(self, epoch, num_epochs, n_batch, num_batches, d_error, g_error, d_pred_real, d_pred_fake):\n",
        "        \n",
        "        var_class = torch.autograd.variable.Variable\n",
        "        if type(d_error)==var_class:\n",
        "            d_error = d_error.data.cpu().numpy()[0]\n",
        "        if type(g_error)==var_class:\n",
        "            g_error = g_error.data.cpu().numpy()[0]\n",
        "        if type(d_pred_real)==var_class:\n",
        "            d_pred_real = d_pred_real.data\n",
        "        if type(d_pred_fake)==var_class:\n",
        "            d_pred_fake = d_pred_fake.data\n",
        "        \n",
        "        \n",
        "        print('Epoch: [{}/{}], Batch Num: [{}/{}]'.format(\n",
        "            epoch,num_epochs, n_batch, num_batches)\n",
        "             )\n",
        "        print('Discriminator Loss: {:.4f}, Generator Loss: {:.4f}'.format(d_error, g_error))\n",
        "        print('D(x): {:.4f}, D(G(z)): {:.4f}'.format(d_pred_real.mean(), d_pred_fake.mean()))\n",
        "\n",
        "    def save_models(self, generator, discriminator, epoch):\n",
        "        out_dir = './data/models/{}'.format(self.data_subdir)\n",
        "        Logger._make_dir(out_dir)\n",
        "        torch.save(generator.state_dict(),\n",
        "                   '{}/G_epoch_{}'.format(out_dir, epoch))\n",
        "        torch.save(discriminator.state_dict(),\n",
        "                   '{}/D_epoch_{}'.format(out_dir, epoch))\n",
        "\n",
        "    def close(self):\n",
        "        self.writer.close()\n",
        "\n",
        "    # Private Functionality\n",
        "\n",
        "    @staticmethod\n",
        "    def _step(epoch, n_batch, num_batches):\n",
        "        return epoch * num_batches + n_batch\n",
        "\n",
        "    @staticmethod\n",
        "    def _make_dir(directory):\n",
        "        try:\n",
        "            os.makedirs(directory)\n",
        "        except OSError as e:\n",
        "            if e.errno != errno.EEXIST:\n",
        "                raise\n"
      ],
      "execution_count": 0,
      "outputs": []
    },
    {
      "metadata": {
        "id": "cVl_Hk9u8gN-",
        "colab_type": "code",
        "colab": {}
      },
      "cell_type": "code",
      "source": [
        "ls"
      ],
      "execution_count": 0,
      "outputs": []
    },
    {
      "metadata": {
        "id": "4uf37S9j97Ju",
        "colab_type": "code",
        "colab": {}
      },
      "cell_type": "code",
      "source": [
        "plt.imshow('samples/sample-10-s-m.png')"
      ],
      "execution_count": 0,
      "outputs": []
    },
    {
      "metadata": {
        "id": "MdnmMr_p-AMK",
        "colab_type": "code",
        "colab": {}
      },
      "cell_type": "code",
      "source": [
        "!wget https://github.com/andersy005/colaboratory-tools/blob/master/pytorch-install.sh"
      ],
      "execution_count": 0,
      "outputs": []
    },
    {
      "metadata": {
        "id": "g8U-bOwDDjQO",
        "colab_type": "code",
        "colab": {}
      },
      "cell_type": "code",
      "source": [
        "!ls"
      ],
      "execution_count": 0,
      "outputs": []
    },
    {
      "metadata": {
        "id": "eqpCLD2ODk7w",
        "colab_type": "code",
        "colab": {}
      },
      "cell_type": "code",
      "source": [
        "!./pytorch-install.sh"
      ],
      "execution_count": 0,
      "outputs": []
    },
    {
      "metadata": {
        "id": "x4k9A_oFDoqO",
        "colab_type": "code",
        "colab": {}
      },
      "cell_type": "code",
      "source": [
        "!which bash"
      ],
      "execution_count": 0,
      "outputs": []
    },
    {
      "metadata": {
        "id": "MqNaeE-XDukc",
        "colab_type": "code",
        "colab": {}
      },
      "cell_type": "code",
      "source": [
        "!bash pytorch-install.sh"
      ],
      "execution_count": 0,
      "outputs": []
    },
    {
      "metadata": {
        "id": "aywtnjvuDxdk",
        "colab_type": "code",
        "colab": {}
      },
      "cell_type": "code",
      "source": [
        ""
      ],
      "execution_count": 0,
      "outputs": []
    },
    {
      "metadata": {
        "id": "9o7QBP56D26s",
        "colab_type": "code",
        "colab": {}
      },
      "cell_type": "code",
      "source": [
        "import torch"
      ],
      "execution_count": 0,
      "outputs": []
    },
    {
      "metadata": {
        "id": "GJ_N8G4XEOTe",
        "colab_type": "code",
        "colab": {}
      },
      "cell_type": "code",
      "source": [
        "torch.__version__"
      ],
      "execution_count": 0,
      "outputs": []
    },
    {
      "metadata": {
        "id": "QQq37uXFEQLu",
        "colab_type": "code",
        "colab": {}
      },
      "cell_type": "code",
      "source": [
        "torch.cuda.is_available()"
      ],
      "execution_count": 0,
      "outputs": []
    },
    {
      "metadata": {
        "id": "WC9TP8NPEUQi",
        "colab_type": "code",
        "colab": {}
      },
      "cell_type": "code",
      "source": [
        ""
      ],
      "execution_count": 0,
      "outputs": []
    }
  ]
}